{
 "cells": [
  {
   "cell_type": "code",
   "execution_count": 1,
   "id": "21136cab",
   "metadata": {},
   "outputs": [],
   "source": [
    "# User note: specify info the the commands that are marked to \"EDIT\", all of which are in the first section\n",
    "\n",
    "import pandas as pd # enables certain commands\n",
    "\n",
    "# EDIT file path for a document with search terms IN COLUMN 1 (folder path in 1st quotes, file name with 2nd quotes with preceding \\).\n",
    "NameOfFileWithSearchTerms = (r'C:\\Users\\atomr\\Documents\\Buck\\Jennifer Lab\\Literature\\Data Mining'\n",
    "    r'\\SearchList_NematocinRelatedAndSynaptotagmins.xlsx')\n",
    "\n",
    "# EDIT file path for the document you're searching (folder path in 1st quotes, file name with 2nd quotes with preceding \\).\n",
    "NameOfFileToSearch = (r'C:\\Users\\atomr\\Documents\\Buck\\Jennifer Lab\\Literature\\Data Mining'\n",
    "    r'\\Shen_Wang_EMBO_2022_Ageing induces tissue-specific transcriptomic changes in Caenorhabditis elegans_embj2021109633-sup-0003-datasetev1.xlsx')\n",
    "    \n",
    "# EDIT the suffix to your output file\n",
    "NameOfExcelFileToCreate = NameOfFileToSearch + r'_Filtered-AR.xlsx'\n",
    "\n",
    "# EDIT your input file reading methods, as needed: for a .csv file, use pd.read_csv\n",
    "FileWithSearchTerms = pd.read_excel(NameOfFileWithSearchTerms, header = None) # Your search terms need to be in column 1 of sheet 1\n",
    "FileToSearch = pd.read_excel(NameOfFileToSearch, sheet_name = None) # \"None\" means to read all worksheets from the file\n",
    "\n",
    "# EDIT to reflect the name of the relevant column in the file you would like to search\n",
    "ColumnToSearch = 'Public Name'"
   ]
  },
  {
   "cell_type": "code",
   "execution_count": 2,
   "id": "376bf53f",
   "metadata": {},
   "outputs": [],
   "source": [
    "# This converts your dataframe to a list of text strings\n",
    "SearchTerms = FileWithSearchTerms.iloc[:,0].apply(str).tolist()\n",
    "\n",
    "# This makes your search terms uppercase, since we'll do the same for the database we're searching\n",
    "SearchTerms = [x.upper() for x in SearchTerms]\n",
    "\n",
    "# This puts an OR in between your search terms, so each of them will be searched for individually\n",
    "SearchTerms = '|'.join(SearchTerms)\n",
    "\n",
    "# This creates the new Excel file, containing only rows that have your search term(s) in the specified column\n",
    "with pd.ExcelWriter(NameOfExcelFileToCreate) as writer:\n",
    "    for sheetName, sheet in FileToSearch.items():\n",
    "        if ColumnToSearch in sheet.columns:\n",
    "            sheet = sheet[sheet[ColumnToSearch].str.upper().str.contains(SearchTerms, na = False)]\n",
    "        sheet.to_excel(writer, sheetName)"
   ]
  }
 ],
 "metadata": {
  "kernelspec": {
   "display_name": "Python 3",
   "language": "python",
   "name": "python3"
  },
  "language_info": {
   "codemirror_mode": {
    "name": "ipython",
    "version": 3
   },
   "file_extension": ".py",
   "mimetype": "text/x-python",
   "name": "python",
   "nbconvert_exporter": "python",
   "pygments_lexer": "ipython3",
   "version": "3.8.8"
  }
 },
 "nbformat": 4,
 "nbformat_minor": 5
}
