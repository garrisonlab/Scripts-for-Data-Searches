{
 "cells": [
  {
   "cell_type": "code",
   "execution_count": 1,
   "id": "8a10953b",
   "metadata": {},
   "outputs": [],
   "source": [
    "# User note: specify info the the commands that are marked to \"EDIT\", all of which are in the first section\n",
    "\n",
    "import pandas as pd # enables certain commands\n",
    "\n",
    "# EDIT file path for the document you're searching (folder path in 1st quotes, file name with 2nd quotes with preceding \\).\n",
    "NameOfFileToSearch = (r'C:\\Users\\atomr\\Documents\\Buck\\Jennifer Lab\\Literature\\Data Mining'\n",
    "    r'\\Shen_Wang_EMBO_2022_Ageing induces tissue-specific transcriptomic changes in Caenorhabditis elegans_embj2021109633-sup-0003-datasetev1.xlsx')\n",
    "    \n",
    "# EDIT the suffix to your output file\n",
    "NameOfExcelFileToCreate = NameOfFileToSearch + r'_Filtered-AR.xlsx'\n",
    "\n",
    "# EDIT your input file reading method, as needed: for a .csv file, use pd.read_csv\n",
    "FileToSearch = pd.read_excel(NameOfFileToSearch, sheet_name = None) # \"None\" means to read all worksheets from the file\n",
    "\n",
    "# EDIT to reflect the name of the relevant column in the file you would like to search\n",
    "ColumnToSearch = 'Public Name'\n",
    "\n",
    "# EDIT your list of search terms as needed (not case sensitive; use whole or partial names, but partial may give unwanted hits)\n",
    "SearchTerms = ['flp', 'nlp', 'ins', 'ntc', 'daf-28', 'npr']"
   ]
  },
  {
   "cell_type": "code",
   "execution_count": 2,
   "id": "376bf53f",
   "metadata": {},
   "outputs": [],
   "source": [
    "# This makes your search terms uppercase, since we'll do the same for the database we're searching\n",
    "SearchTerms = [x.upper() for x in SearchTerms]\n",
    "\n",
    "# This puts an OR in between your search terms, so each of them will be searched for individually\n",
    "SearchTerms = '|'.join(SearchTerms)\n",
    "\n",
    "# This creates the new Excel file, containing only rows that have your search term(s) in the specified column\n",
    "with pd.ExcelWriter(NameOfExcelFileToCreate) as writer:\n",
    "    for sheetName, sheet in FileToSearch.items():\n",
    "        if ColumnToSearch in sheet.columns:\n",
    "            sheet = sheet[sheet[ColumnToSearch].str.upper().str.contains(SearchTerms, na = False)]\n",
    "        sheet.to_excel(writer, sheetName)"
   ]
  }
 ],
 "metadata": {
  "kernelspec": {
   "display_name": "Python 3",
   "language": "python",
   "name": "python3"
  },
  "language_info": {
   "codemirror_mode": {
    "name": "ipython",
    "version": 3
   },
   "file_extension": ".py",
   "mimetype": "text/x-python",
   "name": "python",
   "nbconvert_exporter": "python",
   "pygments_lexer": "ipython3",
   "version": "3.8.8"
  }
 },
 "nbformat": 4,
 "nbformat_minor": 5
}
